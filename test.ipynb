{
 "cells": [
  {
   "cell_type": "code",
   "execution_count": 1,
   "id": "3851f5d2",
   "metadata": {},
   "outputs": [
    {
     "data": {
      "text/plain": [
       "True"
      ]
     },
     "execution_count": 1,
     "metadata": {},
     "output_type": "execute_result"
    }
   ],
   "source": [
    "from dotenv import load_dotenv\n",
    "load_dotenv()"
   ]
  },
  {
   "cell_type": "code",
   "execution_count": 2,
   "id": "1dc261cd",
   "metadata": {},
   "outputs": [
    {
     "name": "stdout",
     "output_type": "stream",
     "text": [
      "OPENAI ok: True\n",
      "REPLICATE ok: True\n"
     ]
    }
   ],
   "source": [
    "from dotenv import load_dotenv, find_dotenv\n",
    "load_dotenv(find_dotenv(usecwd=True), override=True)\n",
    "\n",
    "import os\n",
    "print(\"OPENAI ok:\", bool(os.getenv(\"OPENAI_API_KEY\")))\n",
    "print(\"REPLICATE ok:\", bool(os.getenv(\"REPLICATE_API_TOKEN\")))"
   ]
  },
  {
   "cell_type": "code",
   "execution_count": 3,
   "id": "04059afb",
   "metadata": {},
   "outputs": [],
   "source": [
    "# 기본 임포트\n",
    "from typing import List, Dict, Literal, TypedDict\n",
    "from pydantic import BaseModel, Field\n",
    "from typing_extensions import Annotated\n",
    "\n",
    "from langchain_openai import ChatOpenAI\n",
    "from langgraph.graph import StateGraph, START, END"
   ]
  },
  {
   "cell_type": "code",
   "execution_count": 4,
   "id": "bc97e1c7",
   "metadata": {},
   "outputs": [],
   "source": [
    "# 1) 스키마 정의 (EmotionResult / MusicBrief / GraphState)\n",
    "Valence = Annotated[float, Field(ge=-1.0, le=1.0)]\n",
    "Arousal = Annotated[float, Field(ge=0.0, le=1.0)]\n",
    "BPM     = Annotated[int,   Field(ge=50,  le=140)]\n",
    "DurSec  = Annotated[int,   Field(ge=60,   le=90)] # 음악 재생시간(60초 ~ 90초)\n",
    "\n",
    "class EmotionResult(BaseModel):\n",
    "    primary: str\n",
    "    valence: Valence = 0.0\n",
    "    arousal: Arousal = 0.5\n",
    "    confidence: Arousal = 0.7\n",
    "    reasons: str = \"—\"\n",
    "\n",
    "class MusicBrief(BaseModel):\n",
    "    mood: str\n",
    "    bpm: BPM = 90\n",
    "    key: str = \"C major\"\n",
    "    duration_sec: DurSec = 60               # 음악 기본 재생시간 60초\n",
    "    instruments: List[str] = []\n",
    "    style_tags: List[str] = []\n",
    "    prompt: str  # 영어 프롬프트\n",
    "\n",
    "class GraphState(TypedDict, total=False):\n",
    "    user_text: str\n",
    "    emotion: EmotionResult\n",
    "    brief: MusicBrief\n",
    "    audio_path: str\n",
    "    provider_used: Literal[\"replicate\"]\n",
    "    meta: Dict\n"
   ]
  },
  {
   "cell_type": "code",
   "execution_count": 5,
   "id": "d6d937c6",
   "metadata": {},
   "outputs": [],
   "source": [
    "# 2) LLM 헬퍼 (OpenAI)\n",
    "def get_llm():\n",
    "    # 스키마 맞춤 출력이 중요 → 낮은 temperature\n",
    "    return ChatOpenAI(model=\"gpt-4o-mini\", temperature=0.2)\n"
   ]
  },
  {
   "cell_type": "code",
   "execution_count": 6,
   "id": "265d0423",
   "metadata": {},
   "outputs": [],
   "source": [
    "# 3) 감정 분석 노드\n",
    "def analyze_emotion_node(state: GraphState) -> GraphState:\n",
    "    llm = get_llm()\n",
    "    sys = (\n",
    "        \"당신은 심리 정서를 요약하는 분석가입니다. \"\n",
    "        \"사용자 텍스트에서 주요 감정을 한 단어(또는 짧은 구)로 도출하고, \"\n",
    "        \"valence(-1~1), arousal(0~1), confidence(0~1)을 추정하세요. \"\n",
    "        \"반드시 EmotionResult(JSON 스키마)에 맞춰 응답하세요.\"\n",
    "    )\n",
    "    structured = llm.with_structured_output(EmotionResult)\n",
    "    result = structured.invoke([\n",
    "        {\"role\":\"system\",\"content\":sys},\n",
    "        {\"role\":\"user\",\"content\":state[\"user_text\"]}\n",
    "    ])\n",
    "    state[\"emotion\"] = result\n",
    "    return state"
   ]
  },
  {
   "cell_type": "code",
   "execution_count": null,
   "id": "1af90b01",
   "metadata": {},
   "outputs": [],
   "source": [
    "# 4) 음악 브리프 노드\n",
    "def compose_brief_node(state: GraphState) -> GraphState:\n",
    "    llm = get_llm()\n",
    "    emo: EmotionResult = state[\"emotion\"]\n",
    "    sys = (\n",
    "        \"너는 음악 감독이다. 아래 감정 분석과 사용자 텍스트를 참고해 \"\n",
    "        \"치유/안정 목적의 짧은 BGM을 위한 Music Brief를 JSON으로 만들어라. \"\n",
    "        \"bpm=50~140, duration_sec=60~90, key는 'C major' 같은 형식. \"\n",
    "        \"prompt는 영어로 핵심 악기/무드/다이내믹을 간결히 포함.\"\n",
    "    )\n",
    "    usr = (\n",
    "        f\"# Emotion\\nprimary={emo.primary}, valence={emo.valence}, \"\n",
    "        f\"arousal={emo.arousal}, confidence={emo.confidence}\\n\\n\"\n",
    "        f\"# Text\\n{state['user_text']}\\n\"\n",
    "    )\n",
    "    structured = llm.with_structured_output(MusicBrief)\n",
    "    brief = structured.invoke([\n",
    "        {\"role\":\"system\",\"content\":sys},\n",
    "        {\"role\":\"user\",\"content\":usr}\n",
    "    ])\n",
    "\n",
    "# ▼ duration 보정 (60~90초로 강제)\n",
    "    if brief.duration_sec < 60:\n",
    "        brief = brief.model_copy(update={\"duration_sec\": 60})\n",
    "    elif brief.duration_sec > 90:\n",
    "        brief = brief.model_copy(update={\"duration_sec\": 90})\n",
    "\n",
    "    state[\"brief\"] = brief\n",
    "    return state"
   ]
  },
  {
   "cell_type": "code",
   "execution_count": null,
   "id": "d408cba6",
   "metadata": {},
   "outputs": [],
   "source": []
  }
 ],
 "metadata": {
  "kernelspec": {
   "display_name": "langgraph-env-e8JFwEVd-py3.11",
   "language": "python",
   "name": "python3"
  },
  "language_info": {
   "codemirror_mode": {
    "name": "ipython",
    "version": 3
   },
   "file_extension": ".py",
   "mimetype": "text/x-python",
   "name": "python",
   "nbconvert_exporter": "python",
   "pygments_lexer": "ipython3",
   "version": "3.11.9"
  }
 },
 "nbformat": 4,
 "nbformat_minor": 5
}
